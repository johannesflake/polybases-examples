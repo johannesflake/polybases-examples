{
 "cells": [
  {
   "cell_type": "code",
   "execution_count": 2,
   "metadata": {},
   "outputs": [],
   "source": [
    "using Oscar, PolyBases"
   ]
  },
  {
   "cell_type": "code",
   "execution_count": 3,
   "metadata": {},
   "outputs": [
    {
     "ename": "MethodError",
     "evalue": "MethodError: no method matching dyck_poly(::NTuple{4,Int64})\nClosest candidates are:\n  dyck_poly(::Tuple{Vararg{T,N}} where T where N, !Matched::Tuple{Vararg{T,N}} where T where N) at /home/oscar/.julia/packages/PolyBases/60i0C/src/PolyBases.jl:157",
     "output_type": "error",
     "traceback": [
      "MethodError: no method matching dyck_poly(::NTuple{4,Int64})\nClosest candidates are:\n  dyck_poly(::Tuple{Vararg{T,N}} where T where N, !Matched::Tuple{Vararg{T,N}} where T where N) at /home/oscar/.julia/packages/PolyBases/60i0C/src/PolyBases.jl:157",
      "",
      "Stacktrace:",
      " [1] top-level scope at In[3]:1"
     ]
    }
   ],
   "source": [
    "polytope, pts = PolyBases.dyck_poly( (1,2,1,0) );\n",
    "display(pts)\n",
    "display(size(pts))\n",
    "polytope->VISUAL"
   ]
  },
  {
   "cell_type": "code",
   "execution_count": 4,
   "metadata": {},
   "outputs": [],
   "source": [
    "using Oscar\n",
    "G = Oscar.GAP; GG = Oscar.GAP.Globals;"
   ]
  },
  {
   "cell_type": "code",
   "execution_count": 5,
   "metadata": {},
   "outputs": [
    {
     "data": {
      "text/plain": [
       "GAP: <Lie algebra of dimension 15 over Rationals>"
      ]
     },
     "execution_count": 5,
     "metadata": {},
     "output_type": "execute_result"
    }
   ],
   "source": [
    "L = GG.SimpleLieAlgebra(G.g\"A\", 3, GG.Rationals)"
   ]
  },
  {
   "cell_type": "code",
   "execution_count": 6,
   "metadata": {},
   "outputs": [
    {
     "data": {
      "text/html": [
       "$175$"
      ],
      "text/plain": [
       "175"
      ]
     },
     "execution_count": 6,
     "metadata": {},
     "output_type": "execute_result"
    }
   ],
   "source": [
    "GG.DimensionOfHighestWeightModule(L, G.@gap [1,2,1,0])"
   ]
  },
  {
   "cell_type": "code",
   "execution_count": null,
   "metadata": {},
   "outputs": [],
   "source": []
  }
 ],
 "metadata": {
  "kernelspec": {
   "display_name": "Julia 1.4.2",
   "language": "julia",
   "name": "julia-1.4"
  },
  "language_info": {
   "file_extension": ".jl",
   "mimetype": "application/julia",
   "name": "julia",
   "version": "1.4.2"
  }
 },
 "nbformat": 4,
 "nbformat_minor": 4
}
